{
 "cells": [
  {
   "cell_type": "markdown",
   "metadata": {},
   "source": [
    "# Test the benzinga api\n",
    "Here is  a snippet to  test  the benzinga.com api"
   ]
  },
  {
   "cell_type": "code",
   "execution_count": 9,
   "metadata": {},
   "outputs": [
    {
     "name": "stdout",
     "output_type": "stream",
     "text": [
      "{\"message\":\"no Route matched with those values\"}\n"
     ]
    }
   ],
   "source": [
    "import requests\n",
    "from dotenv import load_dotenv\n",
    "import  os\n",
    "# Load .env file\n",
    "load_dotenv()\n",
    "# Retrieve the API key\n",
    "api_key = os.getenv('api_key')\n",
    "\n",
    "url = \"https://api.benzinga.com/api/v2/dividends\"\n",
    "\n",
    "querystring = {\"token\":api_key,\"parameters[tickers]\":\"PG\"}\n",
    "\n",
    "headers = {\"accept\": \"application/json\"}\n",
    "\n",
    "response = requests.request(\"GET\", url, headers=headers, params=querystring)\n",
    "\n",
    "print(response.text)\n"
   ]
  },
  {
   "cell_type": "markdown",
   "metadata": {},
   "source": [
    "# First API call\n",
    "Not  sure why we get only three,  and why we get these three companies. We are thinking that   it just gives us the most recently updated  dividends."
   ]
  },
  {
   "cell_type": "code",
   "execution_count": 4,
   "metadata": {},
   "outputs": [
    {
     "name": "stdout",
     "output_type": "stream",
     "text": [
      "{\"dividends\":[{\"currency\":\"USD\",\"date\":\"2024-01-09\",\"dividend\":\"0.9407\",\"dividend_prior\":\"\",\"dividend_type\":\"Cash\",\"dividend_yield\":\"0.0253063420539377\",\"end_regular_dividend\":false,\"ex_dividend_date\":\"2024-01-18\",\"exchange\":\"NYSE\",\"frequency\":4,\"id\":\"659dc0cd3501c8000128f777\",\"importance\":5,\"name\":\"Procter \\u0026 Gamble\",\"notes\":\"\",\"payable_date\":\"2024-02-15\",\"record_date\":\"2024-01-19\",\"ticker\":\"PG\",\"updated\":1704837356},{\"currency\":\"USD\",\"date\":\"2024-01-04\",\"dividend\":\"0.2500\",\"dividend_prior\":\"\",\"dividend_type\":\"Cash\",\"dividend_yield\":\"0.0391083300743058\",\"end_regular_dividend\":false,\"ex_dividend_date\":\"2024-02-16\",\"exchange\":\"NASDAQ\",\"frequency\":4,\"id\":\"6596a84ab02d410001319801\",\"importance\":4,\"name\":\"Walgreens Boots Alliance\",\"notes\":\"\",\"payable_date\":\"2024-03-12\",\"record_date\":\"2024-02-20\",\"ticker\":\"WBA\",\"updated\":1704726811},{\"currency\":\"USD\",\"date\":\"2024-01-02\",\"dividend\":\"1.1900\",\"dividend_prior\":\"\",\"dividend_type\":\"Cash\",\"dividend_yield\":\"0.0303687635574837\",\"end_regular_dividend\":false,\"ex_dividend_date\":\"2024-02-16\",\"exchange\":\"NYSE\",\"frequency\":4,\"id\":\"65942213b3d44200013a28ea\",\"importance\":5,\"name\":\"Johnson \\u0026 Johnson\",\"notes\":\"\",\"payable_date\":\"2024-03-05\",\"record_date\":\"2024-02-20\",\"ticker\":\"JNJ\",\"updated\":1704206984}]}\n"
     ]
    }
   ],
   "source": [
    "import requests\n",
    "\n",
    "url = \"https://api.benzinga.com/api/v2.1/calendar/dividends\"\n",
    "\n",
    "headers = {\n",
    "    \"accept\": \"application/json\",\n",
    "    \"authorization\": api_key}\n",
    "\n",
    "response = requests.request(\"GET\", url, headers=headers)\n",
    "\n",
    "print(response.text)"
   ]
  },
  {
   "cell_type": "markdown",
   "metadata": {},
   "source": [
    "#  Second, call. Add parameters\n",
    "We want to call  the api  for  specific symbols"
   ]
  },
  {
   "cell_type": "code",
   "execution_count": 5,
   "metadata": {},
   "outputs": [
    {
     "name": "stdout",
     "output_type": "stream",
     "text": [
      "{\"dividends\":[{\"currency\":\"USD\",\"date\":\"2024-01-09\",\"dividend\":\"0.9407\",\"dividend_prior\":\"\",\"dividend_type\":\"Cash\",\"dividend_yield\":\"0.0253063420539377\",\"end_regular_dividend\":false,\"ex_dividend_date\":\"2024-01-18\",\"exchange\":\"NYSE\",\"frequency\":4,\"id\":\"659dc0cd3501c8000128f777\",\"importance\":5,\"name\":\"Procter \\u0026 Gamble\",\"notes\":\"\",\"payable_date\":\"2024-02-15\",\"record_date\":\"2024-01-19\",\"ticker\":\"PG\",\"updated\":1704837356},{\"currency\":\"USD\",\"date\":\"2024-01-04\",\"dividend\":\"0.2500\",\"dividend_prior\":\"\",\"dividend_type\":\"Cash\",\"dividend_yield\":\"0.0391083300743058\",\"end_regular_dividend\":false,\"ex_dividend_date\":\"2024-02-16\",\"exchange\":\"NASDAQ\",\"frequency\":4,\"id\":\"6596a84ab02d410001319801\",\"importance\":4,\"name\":\"Walgreens Boots Alliance\",\"notes\":\"\",\"payable_date\":\"2024-03-12\",\"record_date\":\"2024-02-20\",\"ticker\":\"WBA\",\"updated\":1704726811},{\"currency\":\"USD\",\"date\":\"2024-01-02\",\"dividend\":\"1.1900\",\"dividend_prior\":\"\",\"dividend_type\":\"Cash\",\"dividend_yield\":\"0.0303687635574837\",\"end_regular_dividend\":false,\"ex_dividend_date\":\"2024-02-16\",\"exchange\":\"NYSE\",\"frequency\":4,\"id\":\"65942213b3d44200013a28ea\",\"importance\":5,\"name\":\"Johnson \\u0026 Johnson\",\"notes\":\"\",\"payable_date\":\"2024-03-05\",\"record_date\":\"2024-02-20\",\"ticker\":\"JNJ\",\"updated\":1704206984}]}\n"
     ]
    }
   ],
   "source": [
    "url = \"https://api.benzinga.com/api/v2.1/calendar/dividends\"\n",
    "\n",
    "headers = {\n",
    "    \"accept\": \"application/json\",\n",
    "    \"authorization\": api_key}\n",
    "\n",
    "querystring = {\"symbol\":\"AAPL\"}\n",
    "\n",
    "response = requests.request(\"GET\", url, headers=headers, params=querystring)\n",
    "\n",
    "\n",
    "print(response.text)"
   ]
  },
  {
   "cell_type": "markdown",
   "metadata": {},
   "source": [
    "# Armin's Wish List\\\n",
    "\n",
    "- Symbol\n",
    "- ISIN\n",
    "- Opening \n",
    "\n",
    "\n",
    "## Step 1:\n",
    "List 10 companies from  highest  to lowest  dividends\n",
    "## Step 2:\n",
    "Get historical dividen payment dates\n",
    "##  Step 3:\n",
    "for each dividen payment date, get the opening and close values  for  a month prior and a week after  each dividend payout date\n",
    " "
   ]
  },
  {
   "cell_type": "code",
   "execution_count": 2,
   "metadata": {},
   "outputs": [
    {
     "data": {
      "text/plain": [
       "0.21550625000000015"
      ]
     },
     "execution_count": 2,
     "metadata": {},
     "output_type": "execute_result"
    }
   ],
   "source": [
    "((1000*(1.05)**4)-1000)/1000"
   ]
  },
  {
   "cell_type": "code",
   "execution_count": 3,
   "metadata": {},
   "outputs": [
    {
     "name": "stdout",
     "output_type": "stream",
     "text": [
      "Collecting langchain\n",
      "  Downloading langchain-0.1.1-py3-none-any.whl.metadata (13 kB)\n",
      "Collecting langchain-openai\n",
      "  Downloading langchain_openai-0.0.2.post1-py3-none-any.whl.metadata (2.4 kB)\n",
      "Requirement already satisfied: PyYAML>=5.3 in /Users/dude1/miniconda3/envs/dividends/lib/python3.8/site-packages (from langchain) (6.0.1)\n",
      "Collecting SQLAlchemy<3,>=1.4 (from langchain)\n",
      "  Downloading SQLAlchemy-2.0.25-cp38-cp38-macosx_10_9_x86_64.whl.metadata (9.6 kB)\n",
      "Collecting aiohttp<4.0.0,>=3.8.3 (from langchain)\n",
      "  Downloading aiohttp-3.9.1-cp38-cp38-macosx_10_9_x86_64.whl.metadata (7.4 kB)\n",
      "Collecting async-timeout<5.0.0,>=4.0.0 (from langchain)\n",
      "  Downloading async_timeout-4.0.3-py3-none-any.whl.metadata (4.2 kB)\n",
      "Collecting dataclasses-json<0.7,>=0.5.7 (from langchain)\n",
      "  Downloading dataclasses_json-0.6.3-py3-none-any.whl.metadata (25 kB)\n",
      "Collecting jsonpatch<2.0,>=1.33 (from langchain)\n",
      "  Downloading jsonpatch-1.33-py2.py3-none-any.whl.metadata (3.0 kB)\n",
      "Collecting langchain-community<0.1,>=0.0.13 (from langchain)\n",
      "  Downloading langchain_community-0.0.13-py3-none-any.whl.metadata (7.5 kB)\n",
      "Collecting langchain-core<0.2,>=0.1.9 (from langchain)\n",
      "  Downloading langchain_core-0.1.11-py3-none-any.whl.metadata (4.2 kB)\n",
      "Collecting langsmith<0.1.0,>=0.0.77 (from langchain)\n",
      "  Downloading langsmith-0.0.81-py3-none-any.whl.metadata (10 kB)\n",
      "Requirement already satisfied: numpy<2,>=1 in /Users/dude1/miniconda3/envs/dividends/lib/python3.8/site-packages (from langchain) (1.24.3)\n",
      "Collecting pydantic<3,>=1 (from langchain)\n",
      "  Downloading pydantic-2.5.3-py3-none-any.whl.metadata (65 kB)\n",
      "\u001b[2K     \u001b[90m━━━━━━━━━━━━━━━━━━━━━━━━━━━━━━━━━━━━━━━━\u001b[0m \u001b[32m65.6/65.6 kB\u001b[0m \u001b[31m3.6 MB/s\u001b[0m eta \u001b[36m0:00:00\u001b[0m\n",
      "\u001b[?25hRequirement already satisfied: requests<3,>=2 in /Users/dude1/miniconda3/envs/dividends/lib/python3.8/site-packages (from langchain) (2.31.0)\n",
      "Requirement already satisfied: tenacity<9.0.0,>=8.1.0 in /Users/dude1/miniconda3/envs/dividends/lib/python3.8/site-packages (from langchain) (8.2.3)\n",
      "Collecting openai<2.0.0,>=1.6.1 (from langchain-openai)\n",
      "  Downloading openai-1.7.2-py3-none-any.whl.metadata (17 kB)\n",
      "Collecting tiktoken<0.6.0,>=0.5.2 (from langchain-openai)\n",
      "  Downloading tiktoken-0.5.2-cp38-cp38-macosx_10_9_x86_64.whl.metadata (6.6 kB)\n",
      "Requirement already satisfied: attrs>=17.3.0 in /Users/dude1/miniconda3/envs/dividends/lib/python3.8/site-packages (from aiohttp<4.0.0,>=3.8.3->langchain) (23.2.0)\n",
      "Collecting multidict<7.0,>=4.5 (from aiohttp<4.0.0,>=3.8.3->langchain)\n",
      "  Downloading multidict-6.0.4-cp38-cp38-macosx_10_9_x86_64.whl (29 kB)\n",
      "Collecting yarl<2.0,>=1.0 (from aiohttp<4.0.0,>=3.8.3->langchain)\n",
      "  Downloading yarl-1.9.4-cp38-cp38-macosx_10_9_x86_64.whl.metadata (31 kB)\n",
      "Collecting frozenlist>=1.1.1 (from aiohttp<4.0.0,>=3.8.3->langchain)\n",
      "  Downloading frozenlist-1.4.1-cp38-cp38-macosx_10_9_x86_64.whl.metadata (12 kB)\n",
      "Collecting aiosignal>=1.1.2 (from aiohttp<4.0.0,>=3.8.3->langchain)\n",
      "  Downloading aiosignal-1.3.1-py3-none-any.whl (7.6 kB)\n",
      "Collecting marshmallow<4.0.0,>=3.18.0 (from dataclasses-json<0.7,>=0.5.7->langchain)\n",
      "  Downloading marshmallow-3.20.2-py3-none-any.whl.metadata (7.5 kB)\n",
      "Collecting typing-inspect<1,>=0.4.0 (from dataclasses-json<0.7,>=0.5.7->langchain)\n",
      "  Downloading typing_inspect-0.9.0-py3-none-any.whl.metadata (1.5 kB)\n",
      "Requirement already satisfied: jsonpointer>=1.9 in /Users/dude1/miniconda3/envs/dividends/lib/python3.8/site-packages (from jsonpatch<2.0,>=1.33->langchain) (2.4)\n",
      "Requirement already satisfied: anyio<5,>=3 in /Users/dude1/miniconda3/envs/dividends/lib/python3.8/site-packages (from langchain-core<0.2,>=0.1.9->langchain) (4.2.0)\n",
      "Requirement already satisfied: packaging<24.0,>=23.2 in /Users/dude1/miniconda3/envs/dividends/lib/python3.8/site-packages (from langchain-core<0.2,>=0.1.9->langchain) (23.2)\n",
      "Collecting distro<2,>=1.7.0 (from openai<2.0.0,>=1.6.1->langchain-openai)\n",
      "  Downloading distro-1.9.0-py3-none-any.whl.metadata (6.8 kB)\n",
      "Collecting httpx<1,>=0.23.0 (from openai<2.0.0,>=1.6.1->langchain-openai)\n",
      "  Downloading httpx-0.26.0-py3-none-any.whl.metadata (7.6 kB)\n",
      "Requirement already satisfied: sniffio in /Users/dude1/miniconda3/envs/dividends/lib/python3.8/site-packages (from openai<2.0.0,>=1.6.1->langchain-openai) (1.3.0)\n",
      "Collecting tqdm>4 (from openai<2.0.0,>=1.6.1->langchain-openai)\n",
      "  Downloading tqdm-4.66.1-py3-none-any.whl.metadata (57 kB)\n",
      "\u001b[2K     \u001b[90m━━━━━━━━━━━━━━━━━━━━━━━━━━━━━━━━━━━━━━━━\u001b[0m \u001b[32m57.6/57.6 kB\u001b[0m \u001b[31m3.1 MB/s\u001b[0m eta \u001b[36m0:00:00\u001b[0m\n",
      "\u001b[?25hRequirement already satisfied: typing-extensions<5,>=4.7 in /Users/dude1/miniconda3/envs/dividends/lib/python3.8/site-packages (from openai<2.0.0,>=1.6.1->langchain-openai) (4.9.0)\n",
      "Collecting annotated-types>=0.4.0 (from pydantic<3,>=1->langchain)\n",
      "  Downloading annotated_types-0.6.0-py3-none-any.whl.metadata (12 kB)\n",
      "Collecting pydantic-core==2.14.6 (from pydantic<3,>=1->langchain)\n",
      "  Downloading pydantic_core-2.14.6-cp38-cp38-macosx_10_7_x86_64.whl.metadata (6.5 kB)\n",
      "Requirement already satisfied: charset-normalizer<4,>=2 in /Users/dude1/miniconda3/envs/dividends/lib/python3.8/site-packages (from requests<3,>=2->langchain) (3.3.2)\n",
      "Requirement already satisfied: idna<4,>=2.5 in /Users/dude1/miniconda3/envs/dividends/lib/python3.8/site-packages (from requests<3,>=2->langchain) (3.6)\n",
      "Requirement already satisfied: urllib3<3,>=1.21.1 in /Users/dude1/miniconda3/envs/dividends/lib/python3.8/site-packages (from requests<3,>=2->langchain) (2.1.0)\n",
      "Requirement already satisfied: certifi>=2017.4.17 in /Users/dude1/miniconda3/envs/dividends/lib/python3.8/site-packages (from requests<3,>=2->langchain) (2023.11.17)\n",
      "Collecting greenlet!=0.4.17 (from SQLAlchemy<3,>=1.4->langchain)\n",
      "  Downloading greenlet-3.0.3.tar.gz (182 kB)\n",
      "\u001b[2K     \u001b[90m━━━━━━━━━━━━━━━━━━━━━━━━━━━━━━━━━━━━━━━\u001b[0m \u001b[32m182.0/182.0 kB\u001b[0m \u001b[31m5.5 MB/s\u001b[0m eta \u001b[36m0:00:00\u001b[0m\n",
      "\u001b[?25h  Installing build dependencies ... \u001b[?25ldone\n",
      "\u001b[?25h  Getting requirements to build wheel ... \u001b[?25ldone\n",
      "\u001b[?25h  Installing backend dependencies ... \u001b[?25ldone\n",
      "\u001b[?25h  Preparing metadata (pyproject.toml) ... \u001b[?25ldone\n",
      "\u001b[?25hCollecting regex>=2022.1.18 (from tiktoken<0.6.0,>=0.5.2->langchain-openai)\n",
      "  Downloading regex-2023.12.25-cp38-cp38-macosx_10_9_x86_64.whl.metadata (40 kB)\n",
      "\u001b[2K     \u001b[90m━━━━━━━━━━━━━━━━━━━━━━━━━━━━━━━━━━━━━━━━\u001b[0m \u001b[32m40.9/40.9 kB\u001b[0m \u001b[31m3.5 MB/s\u001b[0m eta \u001b[36m0:00:00\u001b[0m\n",
      "\u001b[?25hRequirement already satisfied: exceptiongroup>=1.0.2 in /Users/dude1/miniconda3/envs/dividends/lib/python3.8/site-packages (from anyio<5,>=3->langchain-core<0.2,>=0.1.9->langchain) (1.2.0)\n",
      "Collecting httpcore==1.* (from httpx<1,>=0.23.0->openai<2.0.0,>=1.6.1->langchain-openai)\n",
      "  Downloading httpcore-1.0.2-py3-none-any.whl.metadata (20 kB)\n",
      "Collecting h11<0.15,>=0.13 (from httpcore==1.*->httpx<1,>=0.23.0->openai<2.0.0,>=1.6.1->langchain-openai)\n",
      "  Downloading h11-0.14.0-py3-none-any.whl (58 kB)\n",
      "\u001b[2K     \u001b[90m━━━━━━━━━━━━━━━━━━━━━━━━━━━━━━━━━━━━━━━━\u001b[0m \u001b[32m58.3/58.3 kB\u001b[0m \u001b[31m4.6 MB/s\u001b[0m eta \u001b[36m0:00:00\u001b[0m\n",
      "\u001b[?25hCollecting mypy-extensions>=0.3.0 (from typing-inspect<1,>=0.4.0->dataclasses-json<0.7,>=0.5.7->langchain)\n",
      "  Downloading mypy_extensions-1.0.0-py3-none-any.whl (4.7 kB)\n",
      "Downloading langchain-0.1.1-py3-none-any.whl (802 kB)\n",
      "\u001b[2K   \u001b[90m━━━━━━━━━━━━━━━━━━━━━━━━━━━━━━━━━━━━━━━━\u001b[0m \u001b[32m802.4/802.4 kB\u001b[0m \u001b[31m10.8 MB/s\u001b[0m eta \u001b[36m0:00:00\u001b[0ma \u001b[36m0:00:01\u001b[0m\n",
      "\u001b[?25hDownloading langchain_openai-0.0.2.post1-py3-none-any.whl (28 kB)\n",
      "Downloading aiohttp-3.9.1-cp38-cp38-macosx_10_9_x86_64.whl (399 kB)\n",
      "\u001b[2K   \u001b[90m━━━━━━━━━━━━━━━━━━━━━━━━━━━━━━━━━━━━━━━━\u001b[0m \u001b[32m399.0/399.0 kB\u001b[0m \u001b[31m9.1 MB/s\u001b[0m eta \u001b[36m0:00:00\u001b[0m:00:01\u001b[0m\n",
      "\u001b[?25hDownloading async_timeout-4.0.3-py3-none-any.whl (5.7 kB)\n",
      "Downloading dataclasses_json-0.6.3-py3-none-any.whl (28 kB)\n",
      "Downloading jsonpatch-1.33-py2.py3-none-any.whl (12 kB)\n",
      "Downloading langchain_community-0.0.13-py3-none-any.whl (1.6 MB)\n",
      "\u001b[2K   \u001b[90m━━━━━━━━━━━━━━━━━━━━━━━━━━━━━━━━━━━━━━━━\u001b[0m \u001b[32m1.6/1.6 MB\u001b[0m \u001b[31m11.8 MB/s\u001b[0m eta \u001b[36m0:00:00\u001b[0ma \u001b[36m0:00:01\u001b[0m\n",
      "\u001b[?25hDownloading langchain_core-0.1.11-py3-none-any.whl (218 kB)\n",
      "\u001b[2K   \u001b[90m━━━━━━━━━━━━━━━━━━━━━━━━━━━━━━━━━━━━━━━━\u001b[0m \u001b[32m218.6/218.6 kB\u001b[0m \u001b[31m10.0 MB/s\u001b[0m eta \u001b[36m0:00:00\u001b[0m\n",
      "\u001b[?25hDownloading langsmith-0.0.81-py3-none-any.whl (48 kB)\n",
      "\u001b[2K   \u001b[90m━━━━━━━━━━━━━━━━━━━━━━━━━━━━━━━━━━━━━━━━\u001b[0m \u001b[32m48.4/48.4 kB\u001b[0m \u001b[31m2.6 MB/s\u001b[0m eta \u001b[36m0:00:00\u001b[0m\n",
      "\u001b[?25hDownloading openai-1.7.2-py3-none-any.whl (212 kB)\n",
      "\u001b[2K   \u001b[90m━━━━━━━━━━━━━━━━━━━━━━━━━━━━━━━━━━━━━━━━\u001b[0m \u001b[32m212.1/212.1 kB\u001b[0m \u001b[31m7.9 MB/s\u001b[0m eta \u001b[36m0:00:00\u001b[0m\n",
      "\u001b[?25hDownloading pydantic-2.5.3-py3-none-any.whl (381 kB)\n",
      "\u001b[2K   \u001b[90m━━━━━━━━━━━━━━━━━━━━━━━━━━━━━━━━━━━━━━━━\u001b[0m \u001b[32m381.9/381.9 kB\u001b[0m \u001b[31m12.6 MB/s\u001b[0m eta \u001b[36m0:00:00\u001b[0m\n",
      "\u001b[?25hDownloading pydantic_core-2.14.6-cp38-cp38-macosx_10_7_x86_64.whl (1.9 MB)\n",
      "\u001b[2K   \u001b[90m━━━━━━━━━━━━━━━━━━━━━━━━━━━━━━━━━━━━━━━━\u001b[0m \u001b[32m1.9/1.9 MB\u001b[0m \u001b[31m11.5 MB/s\u001b[0m eta \u001b[36m0:00:00\u001b[0m00:01\u001b[0m00:01\u001b[0m\n",
      "\u001b[?25hDownloading SQLAlchemy-2.0.25-cp38-cp38-macosx_10_9_x86_64.whl (2.1 MB)\n",
      "\u001b[2K   \u001b[90m━━━━━━━━━━━━━━━━━━━━━━━━━━━━━━━━━━━━━━━━\u001b[0m \u001b[32m2.1/2.1 MB\u001b[0m \u001b[31m11.6 MB/s\u001b[0m eta \u001b[36m0:00:00\u001b[0ma \u001b[36m0:00:01\u001b[0m\n",
      "\u001b[?25hDownloading tiktoken-0.5.2-cp38-cp38-macosx_10_9_x86_64.whl (1.0 MB)\n",
      "\u001b[2K   \u001b[90m━━━━━━━━━━━━━━━━━━━━━━━━━━━━━━━━━━━━━━━━\u001b[0m \u001b[32m1.0/1.0 MB\u001b[0m \u001b[31m10.6 MB/s\u001b[0m eta \u001b[36m0:00:00\u001b[0ma \u001b[36m0:00:01\u001b[0m\n",
      "\u001b[?25hDownloading annotated_types-0.6.0-py3-none-any.whl (12 kB)\n",
      "Downloading distro-1.9.0-py3-none-any.whl (20 kB)\n",
      "Downloading frozenlist-1.4.1-cp38-cp38-macosx_10_9_x86_64.whl (55 kB)\n",
      "\u001b[2K   \u001b[90m━━━━━━━━━━━━━━━━━━━━━━━━━━━━━━━━━━━━━━━━\u001b[0m \u001b[32m55.2/55.2 kB\u001b[0m \u001b[31m4.2 MB/s\u001b[0m eta \u001b[36m0:00:00\u001b[0m\n",
      "\u001b[?25hDownloading httpx-0.26.0-py3-none-any.whl (75 kB)\n",
      "\u001b[2K   \u001b[90m━━━━━━━━━━━━━━━━━━━━━━━━━━━━━━━━━━━━━━━━\u001b[0m \u001b[32m75.9/75.9 kB\u001b[0m \u001b[31m6.8 MB/s\u001b[0m eta \u001b[36m0:00:00\u001b[0m\n",
      "\u001b[?25hDownloading httpcore-1.0.2-py3-none-any.whl (76 kB)\n",
      "\u001b[2K   \u001b[90m━━━━━━━━━━━━━━━━━━━━━━━━━━━━━━━━━━━━━━━━\u001b[0m \u001b[32m76.9/76.9 kB\u001b[0m \u001b[31m6.3 MB/s\u001b[0m eta \u001b[36m0:00:00\u001b[0m\n",
      "\u001b[?25hDownloading marshmallow-3.20.2-py3-none-any.whl (49 kB)\n",
      "\u001b[2K   \u001b[90m━━━━━━━━━━━━━━━━━━━━━━━━━━━━━━━━━━━━━━━━\u001b[0m \u001b[32m49.4/49.4 kB\u001b[0m \u001b[31m3.7 MB/s\u001b[0m eta \u001b[36m0:00:00\u001b[0m\n",
      "\u001b[?25hDownloading regex-2023.12.25-cp38-cp38-macosx_10_9_x86_64.whl (296 kB)\n",
      "\u001b[2K   \u001b[90m━━━━━━━━━━━━━━━━━━━━━━━━━━━━━━━━━━━━━━━━\u001b[0m \u001b[32m296.4/296.4 kB\u001b[0m \u001b[31m9.4 MB/s\u001b[0m eta \u001b[36m0:00:00\u001b[0m\n",
      "\u001b[?25hDownloading tqdm-4.66.1-py3-none-any.whl (78 kB)\n",
      "\u001b[2K   \u001b[90m━━━━━━━━━━━━━━━━━━━━━━━━━━━━━━━━━━━━━━━━\u001b[0m \u001b[32m78.3/78.3 kB\u001b[0m \u001b[31m6.9 MB/s\u001b[0m eta \u001b[36m0:00:00\u001b[0m\n",
      "\u001b[?25hDownloading typing_inspect-0.9.0-py3-none-any.whl (8.8 kB)\n",
      "Downloading yarl-1.9.4-cp38-cp38-macosx_10_9_x86_64.whl (83 kB)\n",
      "\u001b[2K   \u001b[90m━━━━━━━━━━━━━━━━━━━━━━━━━━━━━━━━━━━━━━━━\u001b[0m \u001b[32m83.7/83.7 kB\u001b[0m \u001b[31m6.2 MB/s\u001b[0m eta \u001b[36m0:00:00\u001b[0m\n",
      "\u001b[?25hBuilding wheels for collected packages: greenlet\n",
      "  Building wheel for greenlet (pyproject.toml) ... \u001b[?25ldone\n",
      "\u001b[?25h  Created wheel for greenlet: filename=greenlet-3.0.3-cp38-cp38-macosx_10_9_x86_64.whl size=218357 sha256=7058f33e80ae0ec1f75cd9504fc493884375c8c8ebce6c3e78e67980d13ef4b6\n",
      "  Stored in directory: /Users/dude1/Library/Caches/pip/wheels/48/c3/46/5e61d8224ca5247a7464bdd6fdded397df3f17812d0cbb402f\n",
      "Successfully built greenlet\n",
      "Installing collected packages: tqdm, regex, pydantic-core, mypy-extensions, multidict, marshmallow, jsonpatch, h11, greenlet, frozenlist, distro, async-timeout, annotated-types, yarl, typing-inspect, tiktoken, SQLAlchemy, pydantic, httpcore, aiosignal, langsmith, httpx, dataclasses-json, aiohttp, openai, langchain-core, langchain-openai, langchain-community, langchain\n",
      "Successfully installed SQLAlchemy-2.0.25 aiohttp-3.9.1 aiosignal-1.3.1 annotated-types-0.6.0 async-timeout-4.0.3 dataclasses-json-0.6.3 distro-1.9.0 frozenlist-1.4.1 greenlet-3.0.3 h11-0.14.0 httpcore-1.0.2 httpx-0.26.0 jsonpatch-1.33 langchain-0.1.1 langchain-community-0.0.13 langchain-core-0.1.11 langchain-openai-0.0.2.post1 langsmith-0.0.81 marshmallow-3.20.2 multidict-6.0.4 mypy-extensions-1.0.0 openai-1.7.2 pydantic-2.5.3 pydantic-core-2.14.6 regex-2023.12.25 tiktoken-0.5.2 tqdm-4.66.1 typing-inspect-0.9.0 yarl-1.9.4\n"
     ]
    }
   ],
   "source": [
    "! pip install langchain langchain-openai "
   ]
  },
  {
   "cell_type": "code",
   "execution_count": 3,
   "metadata": {},
   "outputs": [
    {
     "data": {
      "text/plain": [
       "True"
      ]
     },
     "execution_count": 3,
     "metadata": {},
     "output_type": "execute_result"
    }
   ],
   "source": [
    "import dotenv\n",
    "import os\n",
    "dotenv.load_dotenv()"
   ]
  },
  {
   "cell_type": "code",
   "execution_count": 4,
   "metadata": {},
   "outputs": [
    {
     "name": "stdout",
     "output_type": "stream",
     "text": [
      "\n",
      "\n",
      "\u001b[1m> Entering new APIChain chain...\u001b[0m\n",
      "\u001b[32;1m\u001b[1;3m https://api.open-meteo.com/v1/forecast?latitude=48.1351&longitude=11.5820&hourly=temperature_2m&current_weather=true&temperature_unit=fahrenheit&timezone=auto\u001b[0m\n",
      "\u001b[33;1m\u001b[1;3m{\"latitude\":48.14,\"longitude\":11.58,\"generationtime_ms\":0.07295608520507812,\"utc_offset_seconds\":3600,\"timezone\":\"Europe/Berlin\",\"timezone_abbreviation\":\"CET\",\"elevation\":521.0,\"current_weather_units\":{\"time\":\"iso8601\",\"interval\":\"seconds\",\"temperature\":\"°F\",\"windspeed\":\"km/h\",\"winddirection\":\"°\",\"is_day\":\"\",\"weathercode\":\"wmo code\"},\"current_weather\":{\"time\":\"2024-01-16T22:00\",\"interval\":900,\"temperature\":23.3,\"windspeed\":5.6,\"winddirection\":153,\"is_day\":0,\"weathercode\":0},\"hourly_units\":{\"time\":\"iso8601\",\"temperature_2m\":\"°F\"},\"hourly\":{\"time\":[\"2024-01-16T00:00\",\"2024-01-16T01:00\",\"2024-01-16T02:00\",\"2024-01-16T03:00\",\"2024-01-16T04:00\",\"2024-01-16T05:00\",\"2024-01-16T06:00\",\"2024-01-16T07:00\",\"2024-01-16T08:00\",\"2024-01-16T09:00\",\"2024-01-16T10:00\",\"2024-01-16T11:00\",\"2024-01-16T12:00\",\"2024-01-16T13:00\",\"2024-01-16T14:00\",\"2024-01-16T15:00\",\"2024-01-16T16:00\",\"2024-01-16T17:00\",\"2024-01-16T18:00\",\"2024-01-16T19:00\",\"2024-01-16T20:00\",\"2024-01-16T21:00\",\"2024-01-16T22:00\",\"2024-01-16T23:00\",\"2024-01-17T00:00\",\"2024-01-17T01:00\",\"2024-01-17T02:00\",\"2024-01-17T03:00\",\"2024-01-17T04:00\",\"2024-01-17T05:00\",\"2024-01-17T06:00\",\"2024-01-17T07:00\",\"2024-01-17T08:00\",\"2024-01-17T09:00\",\"2024-01-17T10:00\",\"2024-01-17T11:00\",\"2024-01-17T12:00\",\"2024-01-17T13:00\",\"2024-01-17T14:00\",\"2024-01-17T15:00\",\"2024-01-17T16:00\",\"2024-01-17T17:00\",\"2024-01-17T18:00\",\"2024-01-17T19:00\",\"2024-01-17T20:00\",\"2024-01-17T21:00\",\"2024-01-17T22:00\",\"2024-01-17T23:00\",\"2024-01-18T00:00\",\"2024-01-18T01:00\",\"2024-01-18T02:00\",\"2024-01-18T03:00\",\"2024-01-18T04:00\",\"2024-01-18T05:00\",\"2024-01-18T06:00\",\"2024-01-18T07:00\",\"2024-01-18T08:00\",\"2024-01-18T09:00\",\"2024-01-18T10:00\",\"2024-01-18T11:00\",\"2024-01-18T12:00\",\"2024-01-18T13:00\",\"2024-01-18T14:00\",\"2024-01-18T15:00\",\"2024-01-18T16:00\",\"2024-01-18T17:00\",\"2024-01-18T18:00\",\"2024-01-18T19:00\",\"2024-01-18T20:00\",\"2024-01-18T21:00\",\"2024-01-18T22:00\",\"2024-01-18T23:00\",\"2024-01-19T00:00\",\"2024-01-19T01:00\",\"2024-01-19T02:00\",\"2024-01-19T03:00\",\"2024-01-19T04:00\",\"2024-01-19T05:00\",\"2024-01-19T06:00\",\"2024-01-19T07:00\",\"2024-01-19T08:00\",\"2024-01-19T09:00\",\"2024-01-19T10:00\",\"2024-01-19T11:00\",\"2024-01-19T12:00\",\"2024-01-19T13:00\",\"2024-01-19T14:00\",\"2024-01-19T15:00\",\"2024-01-19T16:00\",\"2024-01-19T17:00\",\"2024-01-19T18:00\",\"2024-01-19T19:00\",\"2024-01-19T20:00\",\"2024-01-19T21:00\",\"2024-01-19T22:00\",\"2024-01-19T23:00\",\"2024-01-20T00:00\",\"2024-01-20T01:00\",\"2024-01-20T02:00\",\"2024-01-20T03:00\",\"2024-01-20T04:00\",\"2024-01-20T05:00\",\"2024-01-20T06:00\",\"2024-01-20T07:00\",\"2024-01-20T08:00\",\"2024-01-20T09:00\",\"2024-01-20T10:00\",\"2024-01-20T11:00\",\"2024-01-20T12:00\",\"2024-01-20T13:00\",\"2024-01-20T14:00\",\"2024-01-20T15:00\",\"2024-01-20T16:00\",\"2024-01-20T17:00\",\"2024-01-20T18:00\",\"2024-01-20T19:00\",\"2024-01-20T20:00\",\"2024-01-20T21:00\",\"2024-01-20T22:00\",\"2024-01-20T23:00\",\"2024-01-21T00:00\",\"2024-01-21T01:00\",\"2024-01-21T02:00\",\"2024-01-21T03:00\",\"2024-01-21T04:00\",\"2024-01-21T05:00\",\"2024-01-21T06:00\",\"2024-01-21T07:00\",\"2024-01-21T08:00\",\"2024-01-21T09:00\",\"2024-01-21T10:00\",\"2024-01-21T11:00\",\"2024-01-21T12:00\",\"2024-01-21T13:00\",\"2024-01-21T14:00\",\"2024-01-21T15:00\",\"2024-01-21T16:00\",\"2024-01-21T17:00\",\"2024-01-21T18:00\",\"2024-01-21T19:00\",\"2024-01-21T20:00\",\"2024-01-21T21:00\",\"2024-01-21T22:00\",\"2024-01-21T23:00\",\"2024-01-22T00:00\",\"2024-01-22T01:00\",\"2024-01-22T02:00\",\"2024-01-22T03:00\",\"2024-01-22T04:00\",\"2024-01-22T05:00\",\"2024-01-22T06:00\",\"2024-01-22T07:00\",\"2024-01-22T08:00\",\"2024-01-22T09:00\",\"2024-01-22T10:00\",\"2024-01-22T11:00\",\"2024-01-22T12:00\",\"2024-01-22T13:00\",\"2024-01-22T14:00\",\"2024-01-22T15:00\",\"2024-01-22T16:00\",\"2024-01-22T17:00\",\"2024-01-22T18:00\",\"2024-01-22T19:00\",\"2024-01-22T20:00\",\"2024-01-22T21:00\",\"2024-01-22T22:00\",\"2024-01-22T23:00\"],\"temperature_2m\":[26.8,27.5,26.5,26.2,26.6,26.5,26.2,24.6,24.1,24.4,25.5,27.6,29.5,30.8,31.4,31.2,30.1,29.1,28.0,26.5,25.2,23.8,23.3,23.0,23.1,24.4,26.4,28.2,29.0,30.8,31.6,32.1,32.7,33.0,33.5,34.8,35.6,35.4,36.3,38.0,43.0,44.5,43.8,43.5,44.2,42.4,42.2,42.3,43.5,42.8,42.6,42.6,42.3,42.2,41.8,41.7,41.6,45.2,46.0,47.0,47.6,48.0,47.1,36.3,32.6,31.3,30.7,30.0,30.2,30.1,29.3,28.6,28.4,28.6,28.3,27.5,26.6,26.4,26.3,26.0,26.2,26.7,27.4,28.3,29.1,29.4,30.0,30.0,29.3,27.7,26.4,25.4,24.5,23.7,23.0,22.5,22.1,21.6,20.8,19.9,19.1,18.4,17.7,17.5,17.9,18.8,20.2,22.9,26.3,28.7,29.8,30.1,29.6,28.2,26.1,24.4,23.6,23.1,22.8,22.3,21.9,21.4,20.9,20.3,19.8,19.2,18.6,18.6,19.3,20.8,22.9,26.7,31.3,34.6,36.2,36.4,35.9,34.4,32.2,30.3,29.0,27.8,27.1,26.9,27.0,27.0,26.6,26.2,25.8,25.4,25.3,25.7,27.1,29.0,31.3,34.0,37.1,39.3,40.3,40.5,40.5,40.2,39.8,39.6,40.0,40.8,41.6,42.1]}}\u001b[0m\n",
      "\n",
      "\u001b[1m> Finished chain.\u001b[0m\n"
     ]
    },
    {
     "data": {
      "text/plain": [
       "' The current temperature in Munich, Germany is 23.3 degrees Fahrenheit. This information was obtained from the API url: https://api.open-meteo.com/v1/forecast?latitude=48.1351&longitude=11.5820&hourly=temperature_2m&current_weather=true&temperature_unit=fahrenheit&timezone=auto.'"
      ]
     },
     "execution_count": 4,
     "metadata": {},
     "output_type": "execute_result"
    }
   ],
   "source": [
    "from langchain.chains import APIChain\n",
    "from langchain.chains.api import open_meteo_docs\n",
    "from langchain_openai import OpenAI\n",
    "\n",
    "llm = OpenAI(temperature=0)\n",
    "chain = APIChain.from_llm_and_api_docs(\n",
    "    llm,\n",
    "    open_meteo_docs.OPEN_METEO_DOCS,\n",
    "    verbose=True,\n",
    "    limit_to_domains=[\"https://api.open-meteo.com/\"],\n",
    ")\n",
    "chain.run(\n",
    "    \"What is the weather like right now in Munich, Germany in degrees Fahrenheit?\"\n",
    ")"
   ]
  },
  {
   "cell_type": "markdown",
   "metadata": {},
   "source": [
    "#  LLMs to The Rescue\n",
    "Here I  show  how you can  use  an LLM  into  order to do natural language  queries on the  benzinga api"
   ]
  },
  {
   "cell_type": "code",
   "execution_count": 10,
   "metadata": {},
   "outputs": [
    {
     "name": "stdout",
     "output_type": "stream",
     "text": [
      "\n",
      "\n",
      "\u001b[1m> Entering new APIChain chain...\u001b[0m\n",
      "\u001b[32;1m\u001b[1;3m https://api.benzinga.com/api/v2.1/calendar/dividends?parameters[date_from]=2024-01-01&parameters[date_to]=2024-12-31&parameters[tickers]=PG&parameters[date_sort]=announced&parameters[dividend_type]=dividend&parameters[dividend_yield_operation]=gt&parameters[dividend_yield]=0&fields=date,dividend,ex_dividend_date,payable_date,record_date\u001b[0m\n",
      "\u001b[33;1m\u001b[1;3m{\"dividends\":[{\"currency\":\"USD\",\"date\":\"2024-01-09\",\"dividend\":\"0.9407\",\"dividend_prior\":\"\",\"dividend_type\":\"Cash\",\"dividend_yield\":\"0.0253063420539377\",\"end_regular_dividend\":false,\"ex_dividend_date\":\"2024-01-18\",\"exchange\":\"NYSE\",\"frequency\":4,\"id\":\"659dc0cd3501c8000128f777\",\"importance\":5,\"name\":\"Procter \\u0026 Gamble\",\"notes\":\"\",\"payable_date\":\"2024-02-15\",\"record_date\":\"2024-01-19\",\"ticker\":\"PG\",\"updated\":1704837356}]}\u001b[0m\n",
      "\n",
      "\u001b[1m> Finished chain.\u001b[0m\n"
     ]
    },
    {
     "data": {
      "text/plain": [
       "' The dividend for Procter & Gamble in the year 2024 will be announced on January 9th, with a dividend of $0.9407 per share. The ex-dividend date is January 18th, and the payable date is February 15th. '"
      ]
     },
     "execution_count": 10,
     "metadata": {},
     "output_type": "execute_result"
    }
   ],
   "source": [
    "api_key = os.getenv('api_key')\n",
    "\n",
    "headers = {\n",
    "    \"accept\": \"application/json\",\n",
    "    \"authorization\": api_key}\n",
    "url = \"https://api.benzinga.com/api/v2.1/calendar/dividends\"\n",
    "with open(\"calendar.yml\", \"r\") as file:\n",
    "    api_documentation=file.read()\n",
    "\n",
    "chain = APIChain.from_llm_and_api_docs(\n",
    "    llm,\n",
    "    api_documentation,\n",
    "    headers=headers,\n",
    "    verbose=True,\n",
    "    limit_to_domains=[url],\n",
    ")\n",
    "chain.run(\n",
    "    \"when are the  dividend for proctor and gamble  in the year  2024\"\n",
    ")"
   ]
  },
  {
   "cell_type": "code",
   "execution_count": null,
   "metadata": {},
   "outputs": [],
   "source": []
  },
  {
   "cell_type": "code",
   "execution_count": null,
   "metadata": {},
   "outputs": [],
   "source": []
  }
 ],
 "metadata": {
  "kernelspec": {
   "display_name": "base",
   "language": "python",
   "name": "python3"
  },
  "language_info": {
   "codemirror_mode": {
    "name": "ipython",
    "version": 3
   },
   "file_extension": ".py",
   "mimetype": "text/x-python",
   "name": "python",
   "nbconvert_exporter": "python",
   "pygments_lexer": "ipython3",
   "version": "3.8.18"
  }
 },
 "nbformat": 4,
 "nbformat_minor": 2
}
