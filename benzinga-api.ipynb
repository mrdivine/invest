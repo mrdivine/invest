{
 "cells": [
  {
   "cell_type": "markdown",
   "metadata": {},
   "source": [
    "# Test the benzinga api\n",
    "Here is  a snippet to  test  the benzinga.com api"
   ]
  },
  {
   "cell_type": "code",
   "execution_count": 9,
   "metadata": {},
   "outputs": [
    {
     "name": "stdout",
     "output_type": "stream",
     "text": [
      "{\"message\":\"no Route matched with those values\"}\n"
     ]
    }
   ],
   "source": [
    "import requests\n",
    "from dotenv import load_dotenv\n",
    "import  os\n",
    "# Load .env file\n",
    "load_dotenv()\n",
    "# Retrieve the API key\n",
    "api_key = os.getenv('api_key')\n",
    "\n",
    "url = \"https://api.benzinga.com/api/v2/dividends\"\n",
    "\n",
    "querystring = {\"token\":api_key,\"parameters[tickers]\":\"PG\"}\n",
    "\n",
    "headers = {\"accept\": \"application/json\"}\n",
    "\n",
    "response = requests.request(\"GET\", url, headers=headers, params=querystring)\n",
    "\n",
    "print(response.text)\n"
   ]
  },
  {
   "cell_type": "markdown",
   "metadata": {},
   "source": [
    "# First API call\n",
    "Not  sure why we get only three,  and why we get these three companies. We are thinking that   it just gives us the most recently updated  dividends."
   ]
  },
  {
   "cell_type": "code",
   "execution_count": 4,
   "metadata": {},
   "outputs": [
    {
     "name": "stdout",
     "output_type": "stream",
     "text": [
      "{\"dividends\":[{\"currency\":\"USD\",\"date\":\"2024-01-09\",\"dividend\":\"0.9407\",\"dividend_prior\":\"\",\"dividend_type\":\"Cash\",\"dividend_yield\":\"0.0253063420539377\",\"end_regular_dividend\":false,\"ex_dividend_date\":\"2024-01-18\",\"exchange\":\"NYSE\",\"frequency\":4,\"id\":\"659dc0cd3501c8000128f777\",\"importance\":5,\"name\":\"Procter \\u0026 Gamble\",\"notes\":\"\",\"payable_date\":\"2024-02-15\",\"record_date\":\"2024-01-19\",\"ticker\":\"PG\",\"updated\":1704837356},{\"currency\":\"USD\",\"date\":\"2024-01-04\",\"dividend\":\"0.2500\",\"dividend_prior\":\"\",\"dividend_type\":\"Cash\",\"dividend_yield\":\"0.0391083300743058\",\"end_regular_dividend\":false,\"ex_dividend_date\":\"2024-02-16\",\"exchange\":\"NASDAQ\",\"frequency\":4,\"id\":\"6596a84ab02d410001319801\",\"importance\":4,\"name\":\"Walgreens Boots Alliance\",\"notes\":\"\",\"payable_date\":\"2024-03-12\",\"record_date\":\"2024-02-20\",\"ticker\":\"WBA\",\"updated\":1704726811},{\"currency\":\"USD\",\"date\":\"2024-01-02\",\"dividend\":\"1.1900\",\"dividend_prior\":\"\",\"dividend_type\":\"Cash\",\"dividend_yield\":\"0.0303687635574837\",\"end_regular_dividend\":false,\"ex_dividend_date\":\"2024-02-16\",\"exchange\":\"NYSE\",\"frequency\":4,\"id\":\"65942213b3d44200013a28ea\",\"importance\":5,\"name\":\"Johnson \\u0026 Johnson\",\"notes\":\"\",\"payable_date\":\"2024-03-05\",\"record_date\":\"2024-02-20\",\"ticker\":\"JNJ\",\"updated\":1704206984}]}\n"
     ]
    }
   ],
   "source": [
    "import requests\n",
    "\n",
    "url = \"https://api.benzinga.com/api/v2.1/calendar/dividends\"\n",
    "\n",
    "headers = {\n",
    "    \"accept\": \"application/json\",\n",
    "    \"authorization\": api_key}\n",
    "\n",
    "response = requests.request(\"GET\", url, headers=headers)\n",
    "\n",
    "print(response.text)"
   ]
  },
  {
   "cell_type": "markdown",
   "metadata": {},
   "source": [
    "#  Second, call. Add parameters\n",
    "We want to call  the api  for  specific symbols"
   ]
  },
  {
   "cell_type": "code",
   "execution_count": 5,
   "metadata": {},
   "outputs": [
    {
     "name": "stdout",
     "output_type": "stream",
     "text": [
      "{\"dividends\":[{\"currency\":\"USD\",\"date\":\"2024-01-09\",\"dividend\":\"0.9407\",\"dividend_prior\":\"\",\"dividend_type\":\"Cash\",\"dividend_yield\":\"0.0253063420539377\",\"end_regular_dividend\":false,\"ex_dividend_date\":\"2024-01-18\",\"exchange\":\"NYSE\",\"frequency\":4,\"id\":\"659dc0cd3501c8000128f777\",\"importance\":5,\"name\":\"Procter \\u0026 Gamble\",\"notes\":\"\",\"payable_date\":\"2024-02-15\",\"record_date\":\"2024-01-19\",\"ticker\":\"PG\",\"updated\":1704837356},{\"currency\":\"USD\",\"date\":\"2024-01-04\",\"dividend\":\"0.2500\",\"dividend_prior\":\"\",\"dividend_type\":\"Cash\",\"dividend_yield\":\"0.0391083300743058\",\"end_regular_dividend\":false,\"ex_dividend_date\":\"2024-02-16\",\"exchange\":\"NASDAQ\",\"frequency\":4,\"id\":\"6596a84ab02d410001319801\",\"importance\":4,\"name\":\"Walgreens Boots Alliance\",\"notes\":\"\",\"payable_date\":\"2024-03-12\",\"record_date\":\"2024-02-20\",\"ticker\":\"WBA\",\"updated\":1704726811},{\"currency\":\"USD\",\"date\":\"2024-01-02\",\"dividend\":\"1.1900\",\"dividend_prior\":\"\",\"dividend_type\":\"Cash\",\"dividend_yield\":\"0.0303687635574837\",\"end_regular_dividend\":false,\"ex_dividend_date\":\"2024-02-16\",\"exchange\":\"NYSE\",\"frequency\":4,\"id\":\"65942213b3d44200013a28ea\",\"importance\":5,\"name\":\"Johnson \\u0026 Johnson\",\"notes\":\"\",\"payable_date\":\"2024-03-05\",\"record_date\":\"2024-02-20\",\"ticker\":\"JNJ\",\"updated\":1704206984}]}\n"
     ]
    }
   ],
   "source": [
    "url = \"https://api.benzinga.com/api/v2.1/calendar/dividends\"\n",
    "\n",
    "headers = {\n",
    "    \"accept\": \"application/json\",\n",
    "    \"authorization\": api_key}\n",
    "\n",
    "querystring = {\"symbol\":\"AAPL\"}\n",
    "\n",
    "response = requests.request(\"GET\", url, headers=headers, params=querystring)\n",
    "\n",
    "\n",
    "print(response.text)"
   ]
  },
  {
   "cell_type": "markdown",
   "metadata": {},
   "source": [
    "# Armin's Wish List\\\n",
    "\n",
    "- Symbol\n",
    "- ISIN\n",
    "- Opening \n",
    "\n",
    "\n",
    "## Step 1:\n",
    "List 10 companies from  highest  to lowest  dividends\n",
    "## Step 2:\n",
    "Get historical dividen payment dates\n",
    "##  Step 3:\n",
    "for each dividen payment date, get the opening and close values  for  a month prior and a week after  each dividend payout date\n",
    " "
   ]
  },
  {
   "cell_type": "code",
   "execution_count": 13,
   "metadata": {},
   "outputs": [
    {
     "data": {
      "text/plain": [
       "0.21550625000000015"
      ]
     },
     "execution_count": 13,
     "metadata": {},
     "output_type": "execute_result"
    }
   ],
   "source": [
    "((1000*(1.05)**4)-1000)/1000"
   ]
  },
  {
   "cell_type": "markdown",
   "metadata": {},
   "source": []
  }
 ],
 "metadata": {
  "kernelspec": {
   "display_name": "base",
   "language": "python",
   "name": "python3"
  },
  "language_info": {
   "codemirror_mode": {
    "name": "ipython",
    "version": 3
   },
   "file_extension": ".py",
   "mimetype": "text/x-python",
   "name": "python",
   "nbconvert_exporter": "python",
   "pygments_lexer": "ipython3",
   "version": "3.11.5"
  }
 },
 "nbformat": 4,
 "nbformat_minor": 2
}
